{
 "cells": [
  {
   "cell_type": "code",
   "execution_count": 1,
   "metadata": {},
   "outputs": [],
   "source": [
    "print('hello')"
   ]
  },
  {
   "cell_type": "code",
   "execution_count": 2,
   "metadata": {},
   "outputs": [],
   "source": [
    "0/0"
   ]
  },
  {
   "cell_type": "code",
   "execution_count": 3,
   "metadata": {},
   "outputs": [],
   "source": [
    "!dir"
   ]
  },
  {
   "cell_type": "code",
   "execution_count": 4,
   "metadata": {},
   "outputs": [],
   "source": [
    "import numpy as np"
   ]
  },
  {
   "cell_type": "code",
   "execution_count": 5,
   "metadata": {},
   "outputs": [],
   "source": [
    "a = 15\n",
    "a"
   ]
  },
  {
   "cell_type": "code",
   "execution_count": 6,
   "metadata": {},
   "outputs": [],
   "source": [
    "a = [i for i in range(10)]"
   ]
  },
  {
   "cell_type": "code",
   "execution_count": 7,
   "metadata": {},
   "outputs": [],
   "source": [
    "a"
   ]
  },
  {
   "cell_type": "code",
   "execution_count": 8,
   "metadata": {},
   "outputs": [],
   "source": [
    "a"
   ]
  },
  {
   "cell_type": "code",
   "execution_count": 9,
   "metadata": {},
   "outputs": [],
   "source": [
    "## fdgdgf\n",
    "a = print('hello') ## dsfsdfs dgfdgdfg dffd\n",
    "a"
   ]
  },
  {
   "cell_type": "code",
   "execution_count": 10,
   "metadata": {},
   "outputs": [],
   "source": [
    "## Тема “Вычисления с помощью Numpy”\n",
    "## Задание 1\n",
    "import numpy as np\n",
    "a = np.array([[1,2,3,3,1],[6,8,11,10,7]])\n",
    "mean_a = np.mean(a,1)\n",
    "\n",
    "## Задание 2\n",
    "a_centered = np.array([a[0,0:]-mean_a[0],a[1,0:]-mean_a[1]])\n",
    "\n",
    "## Задание 3\n",
    "a_centered_sp = np.dot(a_centered[0:,0], a_centered[0:,1])\n",
    "a_centered_sp_divide = a_centered_sp/len(a)\n",
    "\n",
    "## Задание 4 (Ковариация)\n",
    "m = np.cov(a)\n",
    "\n",
    "## Тема “Работа с данными в Pandas”\n",
    "## Задание 1\n",
    "import pandas as pd\n",
    "authors = pd.DataFrame ({\n",
    "    'author_id':[1, 2, 3],\n",
    "    'author_name':['Тургенев', 'Чехов', 'Островский']\n",
    "}, columns=['author_id', 'author_name'])\n",
    "\n",
    "book = pd.DataFrame ({\n",
    "    'author_id':[1, 1, 1, 2, 2, 3, 3],\n",
    "    'book_title':['Отцы и дети', 'Рудин', 'Дворянское гнездо', 'Толстый и тонкий', 'Дама с собачкой', 'Гроза', 'Таланты и поклонники'],\n",
    "    'price':[450, 300, 350, 500, 450, 370, 290]\n",
    "}, columns=['author_id', 'book_title', 'price'])\n",
    "\n",
    "## Задание 2\n",
    "authors_price = pd.merge(authors, book, how ='inner', on ='author_id')\n",
    "\n",
    "## Задание 3\n",
    "top5 = authors_price.sort_values(by='price', ascending=False).head()\n",
    "\n",
    "## Задание 4\n",
    "authors_stat = authors_price.groupby(['author_name'])['price'].agg([np.min, np.max, np.mean])\n",
    "\n",
    "## Задание 5\n",
    "authors_price.insert(loc=len(authors_price.columns), column='cover', value=['твердая', 'мягкая', 'мягкая', 'твердая', 'твердая', 'мягкая', 'мягкая'])\n",
    "book_info  = pd.pivot_table(authors_price, values='price', index='author_name', columns='cover', aggfunc='sum', fill_value=0)\n",
    "print(book_info, '\\n')"
   ]
  }
 ],
 "metadata": {},
 "nbformat": 4,
 "nbformat_minor": 4
}
